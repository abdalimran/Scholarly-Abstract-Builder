{
 "cells": [
  {
   "cell_type": "code",
   "execution_count": null,
   "metadata": {},
   "outputs": [],
   "source": [
    "from selenium.webdriver import Chrome, ChromeOptions\n",
    "\n",
    "headers = {\n",
    "    'accept': '*/*',\n",
    "    'accept-language': 'en-US,en;q=0.9',\n",
    "    'cache-control': 'max-age=0',\n",
    "    'sec-ch-ua': 'Google Chrome;v=113, Chromium;v=113, Not-A.Brand;v=24',\n",
    "    'sec-ch-ua-mobile': '?0',\n",
    "    'sec-ch-ua-platform': 'macOS',\n",
    "    'sec-fetch-dest': 'document',\n",
    "    'sec-fetch-mode': 'navigate',\n",
    "    'user-agent': 'Mozilla/5.0 (Macintosh; Intel Mac OS X 10_15_7) AppleWebKit/537.36 (KHTML, like Gecko) Chrome/113.0.0.0 Safari/537.36',\n",
    "    'nginx-cloud-site-id': 'mssp-us-1',\n",
    "    'privacy-policy': '1,XXXXXXXXXXXXXXXXXXXXXX',\n",
    "    'test_cookie': 'seg%3D12759785'\n",
    "    \n",
    "}\n",
    "\n",
    "chrome_options = ChromeOptions()\n",
    "chrome_options.add_argument(\"--headless=new\")\n",
    "driver = Chrome(options=chrome_options)"
   ]
  },
  {
   "cell_type": "code",
   "execution_count": null,
   "metadata": {},
   "outputs": [],
   "source": [
    "# driver.close()"
   ]
  },
  {
   "cell_type": "code",
   "execution_count": null,
   "metadata": {},
   "outputs": [],
   "source": [
    "from bs4 import BeautifulSoup\n",
    "\n",
    "driver.get(\"https://ieeexplore.ieee.org/document/10101899\")\n",
    "# soup = BeautifulSoup(driver.page_source, \"html5lib\")\n",
    "\n",
    "## Springer\n",
    "# soup.find('div', class_='c-article-section__content').text\n",
    "# soup.find('div', id='Abs1-content').text"
   ]
  },
  {
   "cell_type": "code",
   "execution_count": null,
   "metadata": {},
   "outputs": [],
   "source": [
    "import requests\n",
    "\n",
    "headers = {\n",
    "    'accept': '*/*',\n",
    "    'accept-language': 'en-US,en;q=0.9',\n",
    "    'cache-control': 'max-age=0',\n",
    "    'sec-ch-ua': 'Google Chrome;v=113, Chromium;v=113, Not-A.Brand;v=24',\n",
    "    'sec-ch-ua-mobile': '?0',\n",
    "    'sec-ch-ua-platform': 'macOS',\n",
    "    'sec-fetch-dest': 'document',\n",
    "    'sec-fetch-mode': 'navigate',\n",
    "    'user-agent': 'Mozilla/5.0 (Macintosh; Intel Mac OS X 10_15_7) AppleWebKit/537.36 (KHTML, like Gecko) Chrome/113.0.0.0 Safari/537.36'\n",
    "}\n",
    "\n",
    "cookies = {\n",
    "    'nginx-cloud-site-id': 'mssp-us-1',\n",
    "    'privacy-policy': '1,XXXXXXXXXXXXXXXXXXXXXX',\n",
    "    'test_cookie': 'seg%3D12759785'}\n",
    "\n",
    "response = requests.get(url=\"https://doi.org/10.1007/978-3-031-28238-6_26\",\n",
    "                        headers=headers,\n",
    "                        cookies=cookies,\n",
    "                        timeout=(3.05, 10))\n",
    "\n",
    "soup = BeautifulSoup(response.content, \"html5lib\")\n"
   ]
  },
  {
   "cell_type": "code",
   "execution_count": null,
   "metadata": {},
   "outputs": [],
   "source": [
    "## Springer\n",
    "soup.find('div', class_='c-article-section__content').text.strip()\n",
    "# soup.find('div', id='Abs1-content').text\n",
    "\n",
    "## IEEE\n",
    "soup.find('meta', {'property': 'og:description'})['content'].strip()\n",
    "\n",
    "## ACM\n",
    "soup.find('div', class_='abstractSection').text.strip()"
   ]
  },
  {
   "cell_type": "code",
   "execution_count": null,
   "metadata": {},
   "outputs": [],
   "source": [
    "from crossref.restful import Works\n",
    "\n",
    "def download_paper_info(doi):\n",
    "    works = Works()\n",
    "    paper = works.doi(doi)\n",
    "    return paper\n",
    "\n",
    "# Example usage\n",
    "doi = \"10.1016/j.eswa.2023.119851\"\n",
    "\n",
    "download_paper_info(doi)"
   ]
  },
  {
   "cell_type": "code",
   "execution_count": null,
   "metadata": {},
   "outputs": [],
   "source": [
    "import requests\n",
    "\n",
    "def download_paper_info(doi):\n",
    "    api_url = f\"https://api.crossref.org/works/{doi}\"\n",
    "    response = requests.get(api_url)\n",
    "    return response.json()\n",
    "\n",
    "# Example usage\n",
    "doi = \"10.1007/978-3-031-28238-6_26\"\n",
    "download_paper_info(doi)"
   ]
  },
  {
   "cell_type": "code",
   "execution_count": null,
   "metadata": {},
   "outputs": [],
   "source": [
    "from pybliometrics.scopus import ScopusSearch\n",
    "from pybliometrics.scopus.utils import config\n",
    "\n",
    "config[\"Authentication\"][\"APIKey\"] = \"af301bcffd3f34c61cb7faf104fec86f\"\n",
    "\n",
    "def download_paper_info(doi):\n",
    "    search = ScopusSearch(f\"DOI({doi})\")\n",
    "    if search.get_results_size() > 0:\n",
    "        paper = search.get_results()[0]\n",
    "        title = paper['title']\n",
    "        abstract = paper['description']\n",
    "        print(\"Title:\", title)\n",
    "        print(\"Abstract:\", abstract)\n",
    "    else:\n",
    "        print(\"Error: Paper information not found.\")\n",
    "\n",
    "# Example usage\n",
    "doi = \"10.1007/978-3-031-28238-6_26\"\n",
    "download_paper_info(doi)"
   ]
  },
  {
   "cell_type": "code",
   "execution_count": null,
   "metadata": {},
   "outputs": [],
   "source": [
    "from paper_parser import PaperParser\n",
    "\n",
    "pp = PaperParser()"
   ]
  },
  {
   "cell_type": "code",
   "execution_count": null,
   "metadata": {},
   "outputs": [],
   "source": [
    "pp.scrape_abstract(\"10.1007/978-3-031-28238-6_26\")"
   ]
  },
  {
   "cell_type": "code",
   "execution_count": null,
   "metadata": {},
   "outputs": [],
   "source": [
    "pp.fetch_info_crossref(\"10.1007/978-3-031-28238-6_26\")"
   ]
  },
  {
   "cell_type": "code",
   "execution_count": null,
   "metadata": {},
   "outputs": [],
   "source": [
    "pp.fetch_info_semanticscholar(\"10.1007/978-3-031-28238-6_26\")"
   ]
  },
  {
   "cell_type": "code",
   "execution_count": null,
   "metadata": {},
   "outputs": [],
   "source": []
  }
 ],
 "metadata": {
  "kernelspec": {
   "display_name": "test",
   "language": "python",
   "name": "python3"
  },
  "language_info": {
   "codemirror_mode": {
    "name": "ipython",
    "version": 3
   },
   "file_extension": ".py",
   "mimetype": "text/x-python",
   "name": "python",
   "nbconvert_exporter": "python",
   "pygments_lexer": "ipython3",
   "version": "3.8.16"
  },
  "orig_nbformat": 4
 },
 "nbformat": 4,
 "nbformat_minor": 2
}
